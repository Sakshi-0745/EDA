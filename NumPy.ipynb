{
 "cells": [
  {
   "cell_type": "code",
   "execution_count": 1,
   "id": "22b29be6-5668-4cc1-9212-f884e2824b25",
   "metadata": {},
   "outputs": [],
   "source": [
    "import numpy as np"
   ]
  },
  {
   "cell_type": "code",
   "execution_count": 2,
   "id": "6e5a1744-af1f-4ecc-b7c4-7636873ee9d1",
   "metadata": {},
   "outputs": [
    {
     "ename": "AttributeError",
     "evalue": "module 'numpy' has no attribute '___version__'",
     "output_type": "error",
     "traceback": [
      "\u001b[1;31m---------------------------------------------------------------------------\u001b[0m",
      "\u001b[1;31mAttributeError\u001b[0m                            Traceback (most recent call last)",
      "Cell \u001b[1;32mIn[2], line 1\u001b[0m\n\u001b[1;32m----> 1\u001b[0m np\u001b[38;5;241m.\u001b[39m___version__\n",
      "File \u001b[1;32m~\\Anaconda\\Lib\\site-packages\\numpy\\__init__.py:333\u001b[0m, in \u001b[0;36m__getattr__\u001b[1;34m(attr)\u001b[0m\n\u001b[0;32m    330\u001b[0m     \u001b[38;5;124m\"\u001b[39m\u001b[38;5;124mRemoved in NumPy 1.25.0\u001b[39m\u001b[38;5;124m\"\u001b[39m\n\u001b[0;32m    331\u001b[0m     \u001b[38;5;28;01mraise\u001b[39;00m \u001b[38;5;167;01mRuntimeError\u001b[39;00m(\u001b[38;5;124m\"\u001b[39m\u001b[38;5;124mTester was removed in NumPy 1.25.\u001b[39m\u001b[38;5;124m\"\u001b[39m)\n\u001b[1;32m--> 333\u001b[0m \u001b[38;5;28;01mraise\u001b[39;00m \u001b[38;5;167;01mAttributeError\u001b[39;00m(\u001b[38;5;124m\"\u001b[39m\u001b[38;5;124mmodule \u001b[39m\u001b[38;5;132;01m{!r}\u001b[39;00m\u001b[38;5;124m has no attribute \u001b[39m\u001b[38;5;124m\"\u001b[39m\n\u001b[0;32m    334\u001b[0m                      \u001b[38;5;124m\"\u001b[39m\u001b[38;5;132;01m{!r}\u001b[39;00m\u001b[38;5;124m\"\u001b[39m\u001b[38;5;241m.\u001b[39mformat(\u001b[38;5;18m__name__\u001b[39m, attr))\n",
      "\u001b[1;31mAttributeError\u001b[0m: module 'numpy' has no attribute '___version__'"
     ]
    }
   ],
   "source": [
    "np.___version__"
   ]
  },
  {
   "cell_type": "code",
   "execution_count": 3,
   "id": "a488db58-a78a-4288-aa9f-0030e47708c6",
   "metadata": {},
   "outputs": [
    {
     "data": {
      "text/plain": [
       "'1.26.4'"
      ]
     },
     "execution_count": 3,
     "metadata": {},
     "output_type": "execute_result"
    }
   ],
   "source": [
    "np.__version__"
   ]
  },
  {
   "cell_type": "code",
   "execution_count": 4,
   "id": "6b82021c-4198-4602-8304-a14513f8f68e",
   "metadata": {},
   "outputs": [
    {
     "data": {
      "text/plain": [
       "2"
      ]
     },
     "execution_count": 4,
     "metadata": {},
     "output_type": "execute_result"
    }
   ],
   "source": [
    "np.add(1,1)"
   ]
  },
  {
   "cell_type": "code",
   "execution_count": 6,
   "id": "cb141dcb-29cb-4061-9aaf-de38d22abcf9",
   "metadata": {},
   "outputs": [],
   "source": [
    "a = np.array([1,3,5])"
   ]
  },
  {
   "cell_type": "code",
   "execution_count": 7,
   "id": "11eb6ac8-36b0-4eef-8802-895263b1e053",
   "metadata": {},
   "outputs": [
    {
     "data": {
      "text/plain": [
       "array([1, 3, 5])"
      ]
     },
     "execution_count": 7,
     "metadata": {},
     "output_type": "execute_result"
    }
   ],
   "source": [
    "a"
   ]
  },
  {
   "cell_type": "code",
   "execution_count": 8,
   "id": "1d7009a5-2b9b-4d2a-b716-1c7ed7d3a176",
   "metadata": {},
   "outputs": [
    {
     "data": {
      "text/plain": [
       "(3,)"
      ]
     },
     "execution_count": 8,
     "metadata": {},
     "output_type": "execute_result"
    }
   ],
   "source": [
    "a.shape"
   ]
  },
  {
   "cell_type": "code",
   "execution_count": 10,
   "id": "971dbf3f-3944-4f27-8e07-e258f17047c9",
   "metadata": {},
   "outputs": [
    {
     "data": {
      "text/plain": [
       "1"
      ]
     },
     "execution_count": 10,
     "metadata": {},
     "output_type": "execute_result"
    }
   ],
   "source": [
    "a.ndim"
   ]
  },
  {
   "cell_type": "code",
   "execution_count": null,
   "id": "71c8ca4f-a9b2-4f53-8e48-9e322a52bea9",
   "metadata": {},
   "outputs": [],
   "source": []
  },
  {
   "cell_type": "code",
   "execution_count": 14,
   "id": "a5e69587-6380-4d60-b727-1a262c2db509",
   "metadata": {},
   "outputs": [],
   "source": [
    "b = np.array([[1,3,5],[4,6,8]])"
   ]
  },
  {
   "cell_type": "code",
   "execution_count": 15,
   "id": "a4c7540c-05f2-43cf-8396-4fa976a895a4",
   "metadata": {},
   "outputs": [
    {
     "data": {
      "text/plain": [
       "2"
      ]
     },
     "execution_count": 15,
     "metadata": {},
     "output_type": "execute_result"
    }
   ],
   "source": [
    "b.ndim"
   ]
  },
  {
   "cell_type": "code",
   "execution_count": 16,
   "id": "ef008574-0673-4d88-b52f-b6237390be48",
   "metadata": {},
   "outputs": [
    {
     "data": {
      "text/plain": [
       "(2, 3)"
      ]
     },
     "execution_count": 16,
     "metadata": {},
     "output_type": "execute_result"
    }
   ],
   "source": [
    "b.shape"
   ]
  },
  {
   "cell_type": "code",
   "execution_count": 17,
   "id": "a7410b12-1b7a-4306-9fc2-8caf29a404c7",
   "metadata": {},
   "outputs": [
    {
     "data": {
      "text/plain": [
       "array([[1, 3, 5],\n",
       "       [4, 6, 8]])"
      ]
     },
     "execution_count": 17,
     "metadata": {},
     "output_type": "execute_result"
    }
   ],
   "source": [
    "b"
   ]
  },
  {
   "cell_type": "code",
   "execution_count": 37,
   "id": "ed1eec57-ee12-47f9-9794-770a31bfd5f1",
   "metadata": {},
   "outputs": [],
   "source": [
    "c = np.array([[[1,2,3],[4,5,6],[7,8,9]]])"
   ]
  },
  {
   "cell_type": "code",
   "execution_count": 38,
   "id": "d340401b-f228-49dc-b130-d9d6859fbeaa",
   "metadata": {},
   "outputs": [
    {
     "data": {
      "text/plain": [
       "3"
      ]
     },
     "execution_count": 38,
     "metadata": {},
     "output_type": "execute_result"
    }
   ],
   "source": [
    "c.ndim"
   ]
  },
  {
   "cell_type": "code",
   "execution_count": 39,
   "id": "ac0d47da-d388-455b-99b1-46e9a2f72b65",
   "metadata": {},
   "outputs": [
    {
     "data": {
      "text/plain": [
       "(1, 3, 3)"
      ]
     },
     "execution_count": 39,
     "metadata": {},
     "output_type": "execute_result"
    }
   ],
   "source": [
    "c.shape"
   ]
  },
  {
   "cell_type": "code",
   "execution_count": 40,
   "id": "cc29b372-c758-419b-8cfd-a9e00ecea7aa",
   "metadata": {},
   "outputs": [
    {
     "data": {
      "text/plain": [
       "array([[[1, 2, 3],\n",
       "        [4, 5, 6],\n",
       "        [7, 8, 9]]])"
      ]
     },
     "execution_count": 40,
     "metadata": {},
     "output_type": "execute_result"
    }
   ],
   "source": [
    "c"
   ]
  },
  {
   "cell_type": "code",
   "execution_count": 41,
   "id": "13dba0d0-14a3-4f85-b121-7e3e4c817eef",
   "metadata": {},
   "outputs": [],
   "source": [
    "d=np.array([[[[1,2,3],[4,6,5]]]])"
   ]
  },
  {
   "cell_type": "code",
   "execution_count": 42,
   "id": "1da79ff4-d2f8-4c3a-aa43-e75094207e0b",
   "metadata": {},
   "outputs": [
    {
     "data": {
      "text/plain": [
       "(1, 1, 2, 3)"
      ]
     },
     "execution_count": 42,
     "metadata": {},
     "output_type": "execute_result"
    }
   ],
   "source": [
    "d.shape"
   ]
  },
  {
   "cell_type": "code",
   "execution_count": 48,
   "id": "1d5d0512-b4b3-487b-bbfc-70b5856afb5c",
   "metadata": {},
   "outputs": [],
   "source": [
    "array = np.array([1,2,3,4,5])"
   ]
  },
  {
   "cell_type": "code",
   "execution_count": 50,
   "id": "0ea87aa1-093a-48cf-8bf5-a982fe53d792",
   "metadata": {},
   "outputs": [
    {
     "name": "stdout",
     "output_type": "stream",
     "text": [
      "3\n"
     ]
    }
   ],
   "source": [
    "print(array[2])"
   ]
  },
  {
   "cell_type": "code",
   "execution_count": 51,
   "id": "bf5713aa-4c41-44bf-83cd-526b0c191ee3",
   "metadata": {},
   "outputs": [
    {
     "data": {
      "text/plain": [
       "array([1, 2, 3, 4, 5])"
      ]
     },
     "execution_count": 51,
     "metadata": {},
     "output_type": "execute_result"
    }
   ],
   "source": [
    "array"
   ]
  },
  {
   "cell_type": "code",
   "execution_count": 53,
   "id": "d97eee1c-3e0e-4b2f-bf8a-fa7d35293322",
   "metadata": {},
   "outputs": [
    {
     "name": "stdout",
     "output_type": "stream",
     "text": [
      "2\n"
     ]
    }
   ],
   "source": [
    "print(array[1])"
   ]
  },
  {
   "cell_type": "code",
   "execution_count": 55,
   "id": "29ee221f-5b66-4bbe-8293-40511f2d3fd0",
   "metadata": {},
   "outputs": [],
   "source": [
    "g = np.array([[1,2,3,4],[4,6,9,7]])"
   ]
  },
  {
   "cell_type": "code",
   "execution_count": 56,
   "id": "0d5a86be-6f3a-4b77-9e6b-761fc9b65103",
   "metadata": {},
   "outputs": [
    {
     "data": {
      "text/plain": [
       "array([[1, 2, 3, 4],\n",
       "       [4, 6, 9, 7]])"
      ]
     },
     "execution_count": 56,
     "metadata": {},
     "output_type": "execute_result"
    }
   ],
   "source": [
    "g"
   ]
  },
  {
   "cell_type": "code",
   "execution_count": 58,
   "id": "d16f8651-9e54-4769-84e1-19a5fbd6274f",
   "metadata": {},
   "outputs": [
    {
     "name": "stdout",
     "output_type": "stream",
     "text": [
      "3\n"
     ]
    }
   ],
   "source": [
    "print (g[0,2])"
   ]
  },
  {
   "cell_type": "code",
   "execution_count": 59,
   "id": "ba2a9b41-dbaf-493a-aa95-fee3cc176f0a",
   "metadata": {},
   "outputs": [
    {
     "name": "stdout",
     "output_type": "stream",
     "text": [
      "9\n"
     ]
    }
   ],
   "source": [
    "print(g[1,2])\n"
   ]
  },
  {
   "cell_type": "code",
   "execution_count": 60,
   "id": "1645c5d3-dae6-4f9b-b3c4-379d7f08b10d",
   "metadata": {},
   "outputs": [],
   "source": [
    "n=np.array([[[1,2,3,4,5],[7,5,6,9,2],[1,0,5,9,3]]])"
   ]
  },
  {
   "cell_type": "code",
   "execution_count": 61,
   "id": "558d008c-8446-4873-864a-86aa8bb38a70",
   "metadata": {},
   "outputs": [
    {
     "data": {
      "text/plain": [
       "array([[[1, 2, 3, 4, 5],\n",
       "        [7, 5, 6, 9, 2],\n",
       "        [1, 0, 5, 9, 3]]])"
      ]
     },
     "execution_count": 61,
     "metadata": {},
     "output_type": "execute_result"
    }
   ],
   "source": [
    "n"
   ]
  },
  {
   "cell_type": "code",
   "execution_count": 62,
   "id": "cb66d5cf-67fd-47ab-a07f-0ee36adcf54c",
   "metadata": {},
   "outputs": [
    {
     "name": "stdout",
     "output_type": "stream",
     "text": [
      "9\n"
     ]
    }
   ],
   "source": [
    "print(n[0,1,3])"
   ]
  },
  {
   "cell_type": "code",
   "execution_count": 65,
   "id": "cdbdbf5e-107a-41e1-8f3e-17df60d3b0bb",
   "metadata": {},
   "outputs": [
    {
     "data": {
      "text/plain": [
       "array([[[1, 3, 5],\n",
       "        [4, 6, 7]],\n",
       "\n",
       "       [[0, 6, 8],\n",
       "        [8, 9, 5]]])"
      ]
     },
     "execution_count": 65,
     "metadata": {},
     "output_type": "execute_result"
    }
   ],
   "source": [
    "k=np.array([[[1,3,5],[4,6,7]],[[0,6,8],[8,9,5]]])\n",
    "k"
   ]
  },
  {
   "cell_type": "code",
   "execution_count": 68,
   "id": "1cb77a72-c823-4ea0-a2d1-5c2d2ccdada3",
   "metadata": {},
   "outputs": [
    {
     "name": "stdout",
     "output_type": "stream",
     "text": [
      "6\n"
     ]
    }
   ],
   "source": [
    "print(k[1,0,1])"
   ]
  },
  {
   "cell_type": "code",
   "execution_count": 69,
   "id": "af5caecc-e180-4a86-8362-4206fbf21b8f",
   "metadata": {},
   "outputs": [
    {
     "name": "stdout",
     "output_type": "stream",
     "text": [
      "0\n"
     ]
    }
   ],
   "source": [
    "print(k[1,0,0])"
   ]
  },
  {
   "cell_type": "code",
   "execution_count": 70,
   "id": "ccafbd61-7f97-4e32-bd47-3ba69642bf1d",
   "metadata": {},
   "outputs": [],
   "source": [
    "p = np.array([1,5,8,7,6])"
   ]
  },
  {
   "cell_type": "code",
   "execution_count": 71,
   "id": "2955b248-144a-4445-be00-f1aad67f3cc8",
   "metadata": {},
   "outputs": [
    {
     "data": {
      "text/plain": [
       "array([1, 5, 8, 7, 6])"
      ]
     },
     "execution_count": 71,
     "metadata": {},
     "output_type": "execute_result"
    }
   ],
   "source": [
    "p\n"
   ]
  },
  {
   "cell_type": "code",
   "execution_count": 75,
   "id": "3f19e38e-7cf9-45f1-8e84-342ab8f3f49f",
   "metadata": {},
   "outputs": [
    {
     "name": "stdout",
     "output_type": "stream",
     "text": [
      "[8 7 6]\n"
     ]
    }
   ],
   "source": [
    "print(p[-3:])"
   ]
  },
  {
   "cell_type": "code",
   "execution_count": 77,
   "id": "2caea979-3342-4a3b-8dee-bd1028b5d753",
   "metadata": {},
   "outputs": [
    {
     "name": "stdout",
     "output_type": "stream",
     "text": [
      "[8 7 6]\n"
     ]
    }
   ],
   "source": [
    "print(p[2:])"
   ]
  },
  {
   "cell_type": "code",
   "execution_count": 79,
   "id": "54d13251-d127-498b-ab65-bb33e3745016",
   "metadata": {},
   "outputs": [
    {
     "data": {
      "text/plain": [
       "array([ 1,  2,  3,  4,  5,  6,  7,  8,  9, 10])"
      ]
     },
     "execution_count": 79,
     "metadata": {},
     "output_type": "execute_result"
    }
   ],
   "source": [
    "w = np.array([1,2,3,4,5,6,7,8,9,10])\n",
    "w"
   ]
  },
  {
   "cell_type": "code",
   "execution_count": 80,
   "id": "0f4dccca-163a-4b07-9e60-b925ef9968a5",
   "metadata": {},
   "outputs": [
    {
     "name": "stdout",
     "output_type": "stream",
     "text": [
      "[1 3 5 7 9]\n"
     ]
    }
   ],
   "source": [
    "print(w[0::2])\n"
   ]
  },
  {
   "cell_type": "code",
   "execution_count": 82,
   "id": "e4806ea2-4479-4bf9-ad0e-410491a65e43",
   "metadata": {},
   "outputs": [
    {
     "name": "stdout",
     "output_type": "stream",
     "text": [
      "[1 3]\n"
     ]
    }
   ],
   "source": [
    "print(w[:3:2])"
   ]
  },
  {
   "cell_type": "code",
   "execution_count": 84,
   "id": "4187b4d2-730a-44fa-944a-4d92ef12e21a",
   "metadata": {},
   "outputs": [
    {
     "name": "stdout",
     "output_type": "stream",
     "text": [
      "int32\n"
     ]
    }
   ],
   "source": [
    "print(w.dtype)"
   ]
  },
  {
   "cell_type": "code",
   "execution_count": 85,
   "id": "a949159c-e42f-4622-b272-5c696e62f197",
   "metadata": {},
   "outputs": [],
   "source": [
    "k= w.astype(float)"
   ]
  },
  {
   "cell_type": "code",
   "execution_count": 86,
   "id": "c7d7b781-8cf1-4755-aeab-fe6d23e7d787",
   "metadata": {},
   "outputs": [
    {
     "data": {
      "text/plain": [
       "array([ 1.,  2.,  3.,  4.,  5.,  6.,  7.,  8.,  9., 10.])"
      ]
     },
     "execution_count": 86,
     "metadata": {},
     "output_type": "execute_result"
    }
   ],
   "source": [
    "k"
   ]
  },
  {
   "cell_type": "code",
   "execution_count": 87,
   "id": "3d444366-7ed8-4589-9a53-9287148d247f",
   "metadata": {},
   "outputs": [],
   "source": [
    "l = np.array(['f','s','g','v','e'])"
   ]
  },
  {
   "cell_type": "code",
   "execution_count": 88,
   "id": "3d337f7c-5cdd-4040-99f7-91f64bad0302",
   "metadata": {},
   "outputs": [
    {
     "name": "stdout",
     "output_type": "stream",
     "text": [
      "<U1\n"
     ]
    }
   ],
   "source": [
    "print(l.dtype)"
   ]
  },
  {
   "cell_type": "code",
   "execution_count": 90,
   "id": "6900ca16-298c-43bc-9dcd-cea440e0faac",
   "metadata": {},
   "outputs": [],
   "source": [
    "arr = np.array([1,2,3,4,5,6,7,8,9,10,11,12])"
   ]
  },
  {
   "cell_type": "code",
   "execution_count": 91,
   "id": "9f78c9b8-3f7c-4cf6-b65d-ceb167e6f2b7",
   "metadata": {},
   "outputs": [
    {
     "data": {
      "text/plain": [
       "(12,)"
      ]
     },
     "execution_count": 91,
     "metadata": {},
     "output_type": "execute_result"
    }
   ],
   "source": [
    "arr.shape"
   ]
  },
  {
   "cell_type": "code",
   "execution_count": 92,
   "id": "adc9cc78-90cb-4f1b-980e-a69932d6f494",
   "metadata": {},
   "outputs": [],
   "source": [
    "arr_new = arr.reshape(4,3)"
   ]
  },
  {
   "cell_type": "code",
   "execution_count": 93,
   "id": "4d3a8fea-7895-4e61-9a7a-a5371de3007c",
   "metadata": {},
   "outputs": [
    {
     "data": {
      "text/plain": [
       "array([[ 1,  2,  3],\n",
       "       [ 4,  5,  6],\n",
       "       [ 7,  8,  9],\n",
       "       [10, 11, 12]])"
      ]
     },
     "execution_count": 93,
     "metadata": {},
     "output_type": "execute_result"
    }
   ],
   "source": [
    "arr_new"
   ]
  },
  {
   "cell_type": "code",
   "execution_count": 94,
   "id": "022d0e2f-0731-4c14-b3be-6ce10808930b",
   "metadata": {},
   "outputs": [],
   "source": [
    "a = np.array([[1,3,5,4],[4,6,5,3]])"
   ]
  },
  {
   "cell_type": "code",
   "execution_count": 95,
   "id": "3aa46160-13d8-46a3-8a68-7a41e293841c",
   "metadata": {},
   "outputs": [
    {
     "data": {
      "text/plain": [
       "array([[1, 3, 5, 4],\n",
       "       [4, 6, 5, 3]])"
      ]
     },
     "execution_count": 95,
     "metadata": {},
     "output_type": "execute_result"
    }
   ],
   "source": [
    "a"
   ]
  },
  {
   "cell_type": "code",
   "execution_count": 96,
   "id": "fac0154d-9526-47b1-9dea-137606bda098",
   "metadata": {},
   "outputs": [],
   "source": [
    "a_new = a.reshape(-1)"
   ]
  },
  {
   "cell_type": "code",
   "execution_count": 97,
   "id": "79f34f28-a22c-499c-8449-b4b75619025f",
   "metadata": {},
   "outputs": [
    {
     "data": {
      "text/plain": [
       "array([1, 3, 5, 4, 4, 6, 5, 3])"
      ]
     },
     "execution_count": 97,
     "metadata": {},
     "output_type": "execute_result"
    }
   ],
   "source": [
    "a_new"
   ]
  },
  {
   "cell_type": "code",
   "execution_count": 98,
   "id": "87f2579b-7746-49f5-80bd-61fbb307e9ee",
   "metadata": {},
   "outputs": [
    {
     "name": "stdout",
     "output_type": "stream",
     "text": [
      "[1 3 5 4 4 6 5 3]\n"
     ]
    }
   ],
   "source": [
    "print(a_new)"
   ]
  },
  {
   "cell_type": "code",
   "execution_count": 99,
   "id": "cec12cbf-b153-46fe-88f0-7c501aba59d3",
   "metadata": {},
   "outputs": [],
   "source": [
    "b = np.array([1,2,3,4,5])"
   ]
  },
  {
   "cell_type": "code",
   "execution_count": 100,
   "id": "e6d25438-a05d-471b-baf0-6d361bb2095c",
   "metadata": {},
   "outputs": [
    {
     "name": "stdout",
     "output_type": "stream",
     "text": [
      "1\n",
      "2\n",
      "3\n",
      "4\n",
      "5\n"
     ]
    }
   ],
   "source": [
    "for x in b:\n",
    "    print(x)"
   ]
  },
  {
   "cell_type": "code",
   "execution_count": 105,
   "id": "d28df500-64f8-4b5b-9164-a55f5ff86915",
   "metadata": {},
   "outputs": [
    {
     "name": "stdout",
     "output_type": "stream",
     "text": [
      "1\n",
      "3\n",
      "5\n",
      "4\n",
      "4\n",
      "6\n",
      "5\n",
      "3\n"
     ]
    }
   ],
   "source": [
    "d = np.array([[1,3,5,4],[4,6,5,3]])\n",
    "for i  in d:\n",
    "    for j in i:\n",
    "        print(j)"
   ]
  },
  {
   "cell_type": "code",
   "execution_count": 107,
   "id": "1737115f-8126-4e88-987e-703f520c95a1",
   "metadata": {},
   "outputs": [
    {
     "name": "stdout",
     "output_type": "stream",
     "text": [
      "1\n",
      "2\n",
      "3\n",
      "4\n",
      "5\n",
      "6\n",
      "7\n",
      "8\n",
      "9\n",
      "10\n",
      "11\n",
      "12\n",
      "13\n",
      "14\n",
      "15\n"
     ]
    }
   ],
   "source": [
    "n=np.array([[[1,2,3,4,5],[6,7,8,9,10],[11,12,13,14,15]]])\n",
    "for x in n:\n",
    "    for y in x:\n",
    "        for z in y:\n",
    "            print(z)"
   ]
  },
  {
   "cell_type": "code",
   "execution_count": 108,
   "id": "d9c93778-da87-42d1-92d8-e04161d41c9b",
   "metadata": {},
   "outputs": [],
   "source": [
    "x = np.zeros((2,2))"
   ]
  },
  {
   "cell_type": "code",
   "execution_count": 109,
   "id": "b9550850-e0a6-4983-a637-f69e7e879258",
   "metadata": {},
   "outputs": [
    {
     "data": {
      "text/plain": [
       "array([[0., 0.],\n",
       "       [0., 0.]])"
      ]
     },
     "execution_count": 109,
     "metadata": {},
     "output_type": "execute_result"
    }
   ],
   "source": [
    "x"
   ]
  },
  {
   "cell_type": "code",
   "execution_count": 111,
   "id": "e253baae-e253-4d05-b0b7-b98d8d7e6ef2",
   "metadata": {},
   "outputs": [
    {
     "data": {
      "text/plain": [
       "array([[1., 1.],\n",
       "       [1., 1.]])"
      ]
     },
     "execution_count": 111,
     "metadata": {},
     "output_type": "execute_result"
    }
   ],
   "source": [
    "y = np.ones((2,2))\n",
    "y"
   ]
  },
  {
   "cell_type": "code",
   "execution_count": 120,
   "id": "cf2cc0c6-f251-4e98-ad5b-c1dc4f21172b",
   "metadata": {},
   "outputs": [
    {
     "data": {
      "text/plain": [
       "array([[78, 55,  5, 42, 27, 64, 15, 69],\n",
       "       [38, 89, 14, 95, 75, 16, 92, 27],\n",
       "       [11, 96, 56, 10, 12, 13, 54, 90],\n",
       "       [58, 93, 30, 88, 60, 58, 36,  2],\n",
       "       [99, 37, 38, 84, 62, 65, 86, 37],\n",
       "       [28, 73, 45, 69, 97, 60, 90, 99]])"
      ]
     },
     "execution_count": 120,
     "metadata": {},
     "output_type": "execute_result"
    }
   ],
   "source": [
    "from numpy import random\n",
    "x=random.randint(100,size=(6,8))\n",
    "x"
   ]
  },
  {
   "cell_type": "code",
   "execution_count": 122,
   "id": "cb918433-70f7-4731-943b-8b5fb6274fdf",
   "metadata": {},
   "outputs": [
    {
     "data": {
      "text/plain": [
       "array([[9, 5, 9, 4],\n",
       "       [6, 9, 5, 6],\n",
       "       [5, 6, 9, 9]])"
      ]
     },
     "execution_count": 122,
     "metadata": {},
     "output_type": "execute_result"
    }
   ],
   "source": [
    "y=random.choice([5,6,3,4,9],size=(3,4))\n",
    "y"
   ]
  },
  {
   "cell_type": "code",
   "execution_count": 123,
   "id": "29641016-6adf-4ac3-ae87-00e3db30cf87",
   "metadata": {},
   "outputs": [],
   "source": [
    "u = random.choice(100,size=(2,5))"
   ]
  },
  {
   "cell_type": "code",
   "execution_count": 124,
   "id": "3285a6d6-a4e8-4a5d-9a54-0a851df2cf71",
   "metadata": {},
   "outputs": [
    {
     "data": {
      "text/plain": [
       "array([[ 2, 86,  4,  4, 13],\n",
       "       [13, 54, 85, 63,  3]])"
      ]
     },
     "execution_count": 124,
     "metadata": {},
     "output_type": "execute_result"
    }
   ],
   "source": [
    "u"
   ]
  },
  {
   "cell_type": "code",
   "execution_count": 134,
   "id": "09fb9f13-4c03-4146-97bf-49898fe51000",
   "metadata": {},
   "outputs": [
    {
     "data": {
      "text/plain": [
       "array([[[1., 1.],\n",
       "        [1., 1.],\n",
       "        [1., 1.]],\n",
       "\n",
       "       [[1., 1.],\n",
       "        [1., 1.],\n",
       "        [1., 1.]],\n",
       "\n",
       "       [[1., 1.],\n",
       "        [1., 1.],\n",
       "        [1., 1.]]])"
      ]
     },
     "execution_count": 134,
     "metadata": {},
     "output_type": "execute_result"
    }
   ],
   "source": [
    "s= np.ones((3,3,2))\n",
    "s"
   ]
  },
  {
   "cell_type": "code",
   "execution_count": 135,
   "id": "48dd1637-1339-4ef9-8a2e-4e5f286328f2",
   "metadata": {},
   "outputs": [
    {
     "data": {
      "text/plain": [
       "(3, 3, 2)"
      ]
     },
     "execution_count": 135,
     "metadata": {},
     "output_type": "execute_result"
    }
   ],
   "source": [
    "s.shape"
   ]
  },
  {
   "cell_type": "code",
   "execution_count": 137,
   "id": "6cb754af-fc46-4302-8ecf-81662904af0e",
   "metadata": {},
   "outputs": [
    {
     "name": "stdout",
     "output_type": "stream",
     "text": [
      "[[0.5 1.  1.5]\n",
      " [2.  2.5 3. ]]\n"
     ]
    }
   ],
   "source": [
    "a = np.array([[1,2,3,4],[4,5,6]])\n",
    "for i in a:\n",
    "    i = a/2\n",
    "print(i)"
   ]
  },
  {
   "cell_type": "code",
   "execution_count": null,
   "id": "720f7b3b-8b65-4dbf-afd4-ff8776380e12",
   "metadata": {},
   "outputs": [],
   "source": []
  }
 ],
 "metadata": {
  "kernelspec": {
   "display_name": "Python [conda env:base] *",
   "language": "python",
   "name": "conda-base-py"
  },
  "language_info": {
   "codemirror_mode": {
    "name": "ipython",
    "version": 3
   },
   "file_extension": ".py",
   "mimetype": "text/x-python",
   "name": "python",
   "nbconvert_exporter": "python",
   "pygments_lexer": "ipython3",
   "version": "3.12.7"
  }
 },
 "nbformat": 4,
 "nbformat_minor": 5
}
